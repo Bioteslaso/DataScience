{
 "cells": [
  {
   "cell_type": "code",
   "execution_count": 1,
   "id": "7b0662c6",
   "metadata": {},
   "outputs": [],
   "source": [
    "import numpy as np\n",
    "import matplotlib.pyplot as plt\n",
    "import pandas as pd\n",
    "import os\n",
    "import time\n",
    "import networkx as nx\n",
    "import itertools    \n",
    "from functools import reduce # for merge dataframe\n",
    "from sklearn.preprocessing import StandardScaler\n",
    "from sklearn.pipeline import Pipeline"
   ]
  },
  {
   "cell_type": "code",
   "execution_count": 8,
   "id": "8bb71bdd",
   "metadata": {},
   "outputs": [],
   "source": [
    "#loading data\n",
    "dataframe = pd.read_csv(\"/Users/pablas/Downloads/politician_edges.txt\")\n",
    "X = dataframe['node_1'].to_numpy()\n",
    "y = dataframe['node_2'].to_numpy()"
   ]
  },
  {
   "cell_type": "code",
   "execution_count": 11,
   "id": "1254afc1",
   "metadata": {},
   "outputs": [],
   "source": [
    "#building the graph\n",
    "G=nx.Graph()\n",
    "\n",
    "data=[]#list to add edge tupples\n",
    "\n",
    "for i in range(41729):\n",
    "    data.append((X[i],y[i]))\n",
    "    #data.append((X[i],y[i]))if undirected  \n",
    "G.add_edges_from(data)"
   ]
  },
  {
   "cell_type": "code",
   "execution_count": 12,
   "id": "08ba85d4",
   "metadata": {},
   "outputs": [
    {
     "name": "stderr",
     "output_type": "stream",
     "text": [
      "IOPub data rate exceeded.\n",
      "The notebook server will temporarily stop sending output\n",
      "to the client in order to avoid crashing it.\n",
      "To change this limit, set the config variable\n",
      "`--NotebookApp.iopub_data_rate_limit`.\n",
      "\n",
      "Current values:\n",
      "NotebookApp.iopub_data_rate_limit=1000000.0 (bytes/sec)\n",
      "NotebookApp.rate_limit_window=3.0 (secs)\n",
      "\n"
     ]
    }
   ],
   "source": [
    "#JACCARD\n",
    "print(list(nx.jaccard_coefficient(G)))"
   ]
  }
 ],
 "metadata": {
  "kernelspec": {
   "display_name": "Python 3 (ipykernel)",
   "language": "python",
   "name": "python3"
  },
  "language_info": {
   "codemirror_mode": {
    "name": "ipython",
    "version": 3
   },
   "file_extension": ".py",
   "mimetype": "text/x-python",
   "name": "python",
   "nbconvert_exporter": "python",
   "pygments_lexer": "ipython3",
   "version": "3.9.7"
  }
 },
 "nbformat": 4,
 "nbformat_minor": 5
}
