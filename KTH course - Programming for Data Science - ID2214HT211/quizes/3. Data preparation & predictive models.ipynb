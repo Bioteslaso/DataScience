{
 "cells": [
  {
   "cell_type": "markdown",
   "id": "cd64eb2f-c688-4dbb-8812-fc1629838cca",
   "metadata": {},
   "source": [
    "# Quiz for Lecture 3"
   ]
  },
  {
   "cell_type": "code",
   "execution_count": 1,
   "id": "dc0e8dca-bb5e-4ada-815b-40251322c06e",
   "metadata": {
    "tags": []
   },
   "outputs": [],
   "source": [
    "import numpy as np\n",
    "import pandas as pd"
   ]
  },
  {
   "cell_type": "markdown",
   "id": "9abbc3ce-d45d-401a-a87d-6902b01c86ab",
   "metadata": {
    "tags": []
   },
   "source": [
    "## Question 1"
   ]
  },
  {
   "cell_type": "code",
   "execution_count": 2,
   "id": "7a7c9d2d-2249-4934-b7e8-9b21df54d33f",
   "metadata": {},
   "outputs": [],
   "source": [
    "import numpy as np\n",
    "import pandas as pd\n",
    "\n",
    "# Which of the following leaves missing values in column \"B\" in df?\n",
    "\n",
    "df = pd.DataFrame({\"A\":np.arange(10,15),\n",
    "                   \"B\":[1,np.nan,np.nan,4,5],\n",
    "                   \"C\":[True,np.nan,True,True,False]})\n",
    "\n",
    "df.iloc[2,0] = np.nan\n",
    "\n",
    "# A\n",
    "df.iloc[1:3,1] = df[\"B\"].mean()\n",
    "\n",
    "# B\n",
    "df.dropna(subset=[\"B\"])\n",
    "\n",
    "# C\n",
    "df[\"B\"] = [v if v != np.nan else 0 for v in df[\"B\"]]\n",
    "\n",
    "# D\n",
    "df[\"B\"].fillna(1,inplace=True)\n"
   ]
  },
  {
   "cell_type": "code",
   "execution_count": 3,
   "id": "95160a37-ed2f-4788-9238-9bced9a7fa72",
   "metadata": {},
   "outputs": [
    {
     "data": {
      "text/html": [
       "<div>\n",
       "<style scoped>\n",
       "    .dataframe tbody tr th:only-of-type {\n",
       "        vertical-align: middle;\n",
       "    }\n",
       "\n",
       "    .dataframe tbody tr th {\n",
       "        vertical-align: top;\n",
       "    }\n",
       "\n",
       "    .dataframe thead th {\n",
       "        text-align: right;\n",
       "    }\n",
       "</style>\n",
       "<table border=\"1\" class=\"dataframe\">\n",
       "  <thead>\n",
       "    <tr style=\"text-align: right;\">\n",
       "      <th></th>\n",
       "      <th>A</th>\n",
       "      <th>B</th>\n",
       "      <th>C</th>\n",
       "    </tr>\n",
       "  </thead>\n",
       "  <tbody>\n",
       "    <tr>\n",
       "      <th>0</th>\n",
       "      <td>10.0</td>\n",
       "      <td>1.000000</td>\n",
       "      <td>True</td>\n",
       "    </tr>\n",
       "    <tr>\n",
       "      <th>1</th>\n",
       "      <td>11.0</td>\n",
       "      <td>3.333333</td>\n",
       "      <td>NaN</td>\n",
       "    </tr>\n",
       "    <tr>\n",
       "      <th>2</th>\n",
       "      <td>NaN</td>\n",
       "      <td>3.333333</td>\n",
       "      <td>True</td>\n",
       "    </tr>\n",
       "    <tr>\n",
       "      <th>3</th>\n",
       "      <td>13.0</td>\n",
       "      <td>4.000000</td>\n",
       "      <td>True</td>\n",
       "    </tr>\n",
       "    <tr>\n",
       "      <th>4</th>\n",
       "      <td>14.0</td>\n",
       "      <td>5.000000</td>\n",
       "      <td>False</td>\n",
       "    </tr>\n",
       "  </tbody>\n",
       "</table>\n",
       "</div>"
      ],
      "text/plain": [
       "      A         B      C\n",
       "0  10.0  1.000000   True\n",
       "1  11.0  3.333333    NaN\n",
       "2   NaN  3.333333   True\n",
       "3  13.0  4.000000   True\n",
       "4  14.0  5.000000  False"
      ]
     },
     "metadata": {},
     "output_type": "display_data"
    },
    {
     "data": {
      "text/html": [
       "<div>\n",
       "<style scoped>\n",
       "    .dataframe tbody tr th:only-of-type {\n",
       "        vertical-align: middle;\n",
       "    }\n",
       "\n",
       "    .dataframe tbody tr th {\n",
       "        vertical-align: top;\n",
       "    }\n",
       "\n",
       "    .dataframe thead th {\n",
       "        text-align: right;\n",
       "    }\n",
       "</style>\n",
       "<table border=\"1\" class=\"dataframe\">\n",
       "  <thead>\n",
       "    <tr style=\"text-align: right;\">\n",
       "      <th></th>\n",
       "      <th>A</th>\n",
       "      <th>B</th>\n",
       "      <th>C</th>\n",
       "    </tr>\n",
       "  </thead>\n",
       "  <tbody>\n",
       "    <tr>\n",
       "      <th>0</th>\n",
       "      <td>10.0</td>\n",
       "      <td>1.0</td>\n",
       "      <td>True</td>\n",
       "    </tr>\n",
       "    <tr>\n",
       "      <th>1</th>\n",
       "      <td>11.0</td>\n",
       "      <td>NaN</td>\n",
       "      <td>NaN</td>\n",
       "    </tr>\n",
       "    <tr>\n",
       "      <th>2</th>\n",
       "      <td>NaN</td>\n",
       "      <td>NaN</td>\n",
       "      <td>True</td>\n",
       "    </tr>\n",
       "    <tr>\n",
       "      <th>3</th>\n",
       "      <td>13.0</td>\n",
       "      <td>4.0</td>\n",
       "      <td>True</td>\n",
       "    </tr>\n",
       "    <tr>\n",
       "      <th>4</th>\n",
       "      <td>14.0</td>\n",
       "      <td>5.0</td>\n",
       "      <td>False</td>\n",
       "    </tr>\n",
       "  </tbody>\n",
       "</table>\n",
       "</div>"
      ],
      "text/plain": [
       "      A    B      C\n",
       "0  10.0  1.0   True\n",
       "1  11.0  NaN    NaN\n",
       "2   NaN  NaN   True\n",
       "3  13.0  4.0   True\n",
       "4  14.0  5.0  False"
      ]
     },
     "metadata": {},
     "output_type": "display_data"
    },
    {
     "data": {
      "text/html": [
       "<div>\n",
       "<style scoped>\n",
       "    .dataframe tbody tr th:only-of-type {\n",
       "        vertical-align: middle;\n",
       "    }\n",
       "\n",
       "    .dataframe tbody tr th {\n",
       "        vertical-align: top;\n",
       "    }\n",
       "\n",
       "    .dataframe thead th {\n",
       "        text-align: right;\n",
       "    }\n",
       "</style>\n",
       "<table border=\"1\" class=\"dataframe\">\n",
       "  <thead>\n",
       "    <tr style=\"text-align: right;\">\n",
       "      <th></th>\n",
       "      <th>A</th>\n",
       "      <th>B</th>\n",
       "      <th>C</th>\n",
       "    </tr>\n",
       "  </thead>\n",
       "  <tbody>\n",
       "    <tr>\n",
       "      <th>0</th>\n",
       "      <td>10.0</td>\n",
       "      <td>1.0</td>\n",
       "      <td>True</td>\n",
       "    </tr>\n",
       "    <tr>\n",
       "      <th>1</th>\n",
       "      <td>11.0</td>\n",
       "      <td>NaN</td>\n",
       "      <td>NaN</td>\n",
       "    </tr>\n",
       "    <tr>\n",
       "      <th>2</th>\n",
       "      <td>NaN</td>\n",
       "      <td>NaN</td>\n",
       "      <td>True</td>\n",
       "    </tr>\n",
       "    <tr>\n",
       "      <th>3</th>\n",
       "      <td>13.0</td>\n",
       "      <td>4.0</td>\n",
       "      <td>True</td>\n",
       "    </tr>\n",
       "    <tr>\n",
       "      <th>4</th>\n",
       "      <td>14.0</td>\n",
       "      <td>5.0</td>\n",
       "      <td>False</td>\n",
       "    </tr>\n",
       "  </tbody>\n",
       "</table>\n",
       "</div>"
      ],
      "text/plain": [
       "      A    B      C\n",
       "0  10.0  1.0   True\n",
       "1  11.0  NaN    NaN\n",
       "2   NaN  NaN   True\n",
       "3  13.0  4.0   True\n",
       "4  14.0  5.0  False"
      ]
     },
     "metadata": {},
     "output_type": "display_data"
    },
    {
     "data": {
      "text/html": [
       "<div>\n",
       "<style scoped>\n",
       "    .dataframe tbody tr th:only-of-type {\n",
       "        vertical-align: middle;\n",
       "    }\n",
       "\n",
       "    .dataframe tbody tr th {\n",
       "        vertical-align: top;\n",
       "    }\n",
       "\n",
       "    .dataframe thead th {\n",
       "        text-align: right;\n",
       "    }\n",
       "</style>\n",
       "<table border=\"1\" class=\"dataframe\">\n",
       "  <thead>\n",
       "    <tr style=\"text-align: right;\">\n",
       "      <th></th>\n",
       "      <th>A</th>\n",
       "      <th>B</th>\n",
       "      <th>C</th>\n",
       "    </tr>\n",
       "  </thead>\n",
       "  <tbody>\n",
       "    <tr>\n",
       "      <th>0</th>\n",
       "      <td>10.0</td>\n",
       "      <td>1.0</td>\n",
       "      <td>True</td>\n",
       "    </tr>\n",
       "    <tr>\n",
       "      <th>1</th>\n",
       "      <td>11.0</td>\n",
       "      <td>1.0</td>\n",
       "      <td>NaN</td>\n",
       "    </tr>\n",
       "    <tr>\n",
       "      <th>2</th>\n",
       "      <td>NaN</td>\n",
       "      <td>1.0</td>\n",
       "      <td>True</td>\n",
       "    </tr>\n",
       "    <tr>\n",
       "      <th>3</th>\n",
       "      <td>13.0</td>\n",
       "      <td>4.0</td>\n",
       "      <td>True</td>\n",
       "    </tr>\n",
       "    <tr>\n",
       "      <th>4</th>\n",
       "      <td>14.0</td>\n",
       "      <td>5.0</td>\n",
       "      <td>False</td>\n",
       "    </tr>\n",
       "  </tbody>\n",
       "</table>\n",
       "</div>"
      ],
      "text/plain": [
       "      A    B      C\n",
       "0  10.0  1.0   True\n",
       "1  11.0  1.0    NaN\n",
       "2   NaN  1.0   True\n",
       "3  13.0  4.0   True\n",
       "4  14.0  5.0  False"
      ]
     },
     "metadata": {},
     "output_type": "display_data"
    }
   ],
   "source": [
    "# Which of the following leaves missing values in column \"B\" in df?\n",
    "\n",
    "orig_df = pd.DataFrame({\"A\":np.arange(10,15),\n",
    "                   \"B\":[1,np.nan,np.nan,4,5],\n",
    "                   \"C\":[True,np.nan,True,True,False]})\n",
    "\n",
    "orig_df.iloc[2,0] = np.nan\n",
    "df = orig_df.copy()\n",
    "\n",
    "# A\n",
    "\n",
    "df = orig_df.copy()\n",
    "df.iloc[1:3,1] = df[\"B\"].mean()\n",
    "display(df)\n",
    "\n",
    "\n",
    "# B\n",
    "df = orig_df.copy()\n",
    "df.dropna(subset=[\"B\"])\n",
    "display(df)\n",
    "\n",
    "# C\n",
    "\n",
    "df = orig_df.copy()\n",
    "df[\"B\"] = [v if v != np.nan else 0 for v in df[\"B\"]]\n",
    "display(df)\n",
    "\n",
    "# D\n",
    "\n",
    "df = orig_df.copy()\n",
    "df[\"B\"].fillna(1,inplace=True)\n",
    "display(df)"
   ]
  },
  {
   "cell_type": "markdown",
   "id": "e00dedef-fb66-45c5-bbe1-f03ed82c1674",
   "metadata": {
    "tags": []
   },
   "source": [
    "## Question 2"
   ]
  },
  {
   "cell_type": "code",
   "execution_count": 4,
   "id": "579a65af-5a98-4d06-8a96-ab8e00de9f2a",
   "metadata": {},
   "outputs": [
    {
     "data": {
      "text/plain": [
       "True"
      ]
     },
     "execution_count": 4,
     "metadata": {},
     "output_type": "execute_result"
    }
   ],
   "source": [
    "# Which of the following are true?\n",
    "\n",
    "labeled, bins = pd.cut(np.arange(1,2,0.1), \n",
    "                       4, \n",
    "                       labels = [1,2,3,4], \n",
    "                       retbins=True)\n",
    "\n",
    "# A\n",
    "len(labeled) == 10\n",
    "\n",
    "# B\n",
    "len(pd.unique(labeled)) == 4\n",
    "\n",
    "# C\n",
    "len(bins) == 4\n",
    "\n",
    "# D\n",
    "more_labeled = pd.cut([0.5,1.5,2.5], bins, labels = [1,2,3,4])\n",
    "np.any(pd.isna(more_labeled))\n"
   ]
  },
  {
   "cell_type": "code",
   "execution_count": 5,
   "id": "c740d635-d23a-4d63-8427-4cd6cf7b373a",
   "metadata": {},
   "outputs": [
    {
     "name": "stdout",
     "output_type": "stream",
     "text": [
      "True\n",
      "True\n",
      "False\n",
      "[0.9991 1.225  1.45   1.675  1.9   ]\n",
      "True\n"
     ]
    }
   ],
   "source": [
    "# Which of the following are true?\n",
    "\n",
    "labeled, bins = pd.cut(np.arange(1,2,0.1), \n",
    "                       4, \n",
    "                       labels = [1,2,3,4], \n",
    "                       retbins=True)\n",
    "\n",
    "# A\n",
    "print(len(labeled) == 10)\n",
    "\n",
    "# B\n",
    "print(len(pd.unique(labeled)) == 4)\n",
    "\n",
    "# C\n",
    "print(len(bins) == 4)\n",
    "print(bins)\n",
    "\n",
    "# D\n",
    "more_labeled = pd.cut([0.5,1.5,2.5], bins, labels = [1,2,3,4])\n",
    "print(np.any(pd.isna(more_labeled)))"
   ]
  },
  {
   "cell_type": "markdown",
   "id": "03a6d3b6-314e-4dd9-a43b-64bcf5b50585",
   "metadata": {
    "tags": []
   },
   "source": [
    "## Question 3"
   ]
  },
  {
   "cell_type": "code",
   "execution_count": 7,
   "id": "919b3f57-4e9c-481e-be5c-a072d7598fdd",
   "metadata": {},
   "outputs": [],
   "source": [
    "# Which of the columns in df will remain unchanged:\n",
    "\n",
    "def update(values, v1, v2):\n",
    "    return [v1 if v < v1 else v2 if v > v2 else v for v in values]\n",
    "\n",
    "values_1 = [0,0,-1]\n",
    "values_2 = [1,1,1]\n",
    "\n",
    "df = pd.DataFrame({\"A\":[1,2,3], \"B\":[-2,0.5,2], \"C\":[-1,0,1]}) \n",
    "\n",
    "for i, col in enumerate(df):\n",
    "    df[col] = update(df[col],values_1[i],values_2[i])\n",
    "\n",
    "# A\n",
    "#A\n",
    "\n",
    "# B\n",
    "#B\n",
    "\n",
    "# C\n",
    "#C\n",
    "\n",
    "# D\n",
    "#None of them\n"
   ]
  },
  {
   "cell_type": "code",
   "execution_count": 8,
   "id": "a70f85f0-1e69-44b8-ba72-3042dd2bf1b5",
   "metadata": {},
   "outputs": [
    {
     "data": {
      "text/html": [
       "<div>\n",
       "<style scoped>\n",
       "    .dataframe tbody tr th:only-of-type {\n",
       "        vertical-align: middle;\n",
       "    }\n",
       "\n",
       "    .dataframe tbody tr th {\n",
       "        vertical-align: top;\n",
       "    }\n",
       "\n",
       "    .dataframe thead th {\n",
       "        text-align: right;\n",
       "    }\n",
       "</style>\n",
       "<table border=\"1\" class=\"dataframe\">\n",
       "  <thead>\n",
       "    <tr style=\"text-align: right;\">\n",
       "      <th></th>\n",
       "      <th>A</th>\n",
       "      <th>B</th>\n",
       "      <th>C</th>\n",
       "    </tr>\n",
       "  </thead>\n",
       "  <tbody>\n",
       "    <tr>\n",
       "      <th>0</th>\n",
       "      <td>1</td>\n",
       "      <td>0.0</td>\n",
       "      <td>-1</td>\n",
       "    </tr>\n",
       "    <tr>\n",
       "      <th>1</th>\n",
       "      <td>1</td>\n",
       "      <td>0.5</td>\n",
       "      <td>0</td>\n",
       "    </tr>\n",
       "    <tr>\n",
       "      <th>2</th>\n",
       "      <td>1</td>\n",
       "      <td>1.0</td>\n",
       "      <td>1</td>\n",
       "    </tr>\n",
       "  </tbody>\n",
       "</table>\n",
       "</div>"
      ],
      "text/plain": [
       "   A    B  C\n",
       "0  1  0.0 -1\n",
       "1  1  0.5  0\n",
       "2  1  1.0  1"
      ]
     },
     "metadata": {},
     "output_type": "display_data"
    }
   ],
   "source": [
    "# Which of the columns in df will remain unchanged:\n",
    "\n",
    "def update(values, v1, v2):\n",
    "    return [v1 if v < v1 else v2 if v > v2 else v for v in values]\n",
    "\n",
    "values_1 = [0,0,-1]\n",
    "values_2 = [1,1,1]\n",
    "\n",
    "df = pd.DataFrame({\"A\":[1,2,3], \"B\":[-2,0.5,2], \"C\":[-1,0,1]}) \n",
    "\n",
    "for i, col in enumerate(df):\n",
    "    df[col] = update(df[col],values_1[i],values_2[i])\n",
    "\n",
    "display(df)\n",
    "# A\n",
    "# A\n",
    "\n",
    "# B\n",
    "# B\n",
    "\n",
    "# C\n",
    "#C\n",
    "# This is the correct answer\n",
    "\n",
    "# D\n",
    "#None of them"
   ]
  },
  {
   "cell_type": "markdown",
   "id": "a858dfbe-ab46-4359-9f89-cb9b1bccfdc7",
   "metadata": {
    "tags": []
   },
   "source": [
    "## Question 4"
   ]
  },
  {
   "cell_type": "code",
   "execution_count": 10,
   "id": "d60bbd46-27a9-43e2-8c2e-674b7fd6163e",
   "metadata": {
    "tags": []
   },
   "outputs": [
    {
     "data": {
      "text/html": [
       "<div>\n",
       "<style scoped>\n",
       "    .dataframe tbody tr th:only-of-type {\n",
       "        vertical-align: middle;\n",
       "    }\n",
       "\n",
       "    .dataframe tbody tr th {\n",
       "        vertical-align: top;\n",
       "    }\n",
       "\n",
       "    .dataframe thead th {\n",
       "        text-align: right;\n",
       "    }\n",
       "</style>\n",
       "<table border=\"1\" class=\"dataframe\">\n",
       "  <thead>\n",
       "    <tr style=\"text-align: right;\">\n",
       "      <th></th>\n",
       "      <th>A</th>\n",
       "      <th>B</th>\n",
       "      <th>C</th>\n",
       "      <th>Sum1</th>\n",
       "      <th>Sum2</th>\n",
       "      <th>Sum3</th>\n",
       "      <th>Sum4</th>\n",
       "    </tr>\n",
       "  </thead>\n",
       "  <tbody>\n",
       "    <tr>\n",
       "      <th>0</th>\n",
       "      <td>1</td>\n",
       "      <td>-2.0</td>\n",
       "      <td>-1</td>\n",
       "      <td>-1.0</td>\n",
       "      <td>-1.0</td>\n",
       "      <td>-1.0</td>\n",
       "      <td>-1.0</td>\n",
       "    </tr>\n",
       "    <tr>\n",
       "      <th>1</th>\n",
       "      <td>2</td>\n",
       "      <td>0.5</td>\n",
       "      <td>0</td>\n",
       "      <td>2.5</td>\n",
       "      <td>2.5</td>\n",
       "      <td>2.5</td>\n",
       "      <td>2.5</td>\n",
       "    </tr>\n",
       "    <tr>\n",
       "      <th>2</th>\n",
       "      <td>3</td>\n",
       "      <td>2.0</td>\n",
       "      <td>1</td>\n",
       "      <td>5.0</td>\n",
       "      <td>5.0</td>\n",
       "      <td>5.0</td>\n",
       "      <td>5.0</td>\n",
       "    </tr>\n",
       "  </tbody>\n",
       "</table>\n",
       "</div>"
      ],
      "text/plain": [
       "   A    B  C  Sum1  Sum2  Sum3  Sum4\n",
       "0  1 -2.0 -1  -1.0  -1.0  -1.0  -1.0\n",
       "1  2  0.5  0   2.5   2.5   2.5   2.5\n",
       "2  3  2.0  1   5.0   5.0   5.0   5.0"
      ]
     },
     "metadata": {},
     "output_type": "display_data"
    }
   ],
   "source": [
    "# Which of the following adds a column to df with the sum of \n",
    "# the two first columns:\n",
    "\n",
    "df = pd.DataFrame({\"A\":[1,2,3], \"B\":[-2,0.5,2], \"C\":[-1,0,1]}) \n",
    "\n",
    "# A\n",
    "df[\"Sum1\"] = df.iloc[:,0] + df.iloc[:,1]\n",
    "\n",
    "# B\n",
    "df[\"Sum2\"] = [df[\"A\"][i] + df[\"B\"][i] for i in range(len(df))]\n",
    "\n",
    "# C\n",
    "df[\"Sum3\"] = df[\"A\"] + df[\"B\"]\n",
    "\n",
    "# D\n",
    "df[\"Sum4\"] = np.apply_along_axis(lambda x: x[0]+x[1],1,df.values)\n",
    "\n",
    "display(df)"
   ]
  },
  {
   "cell_type": "markdown",
   "id": "116289e7-ef4f-4e18-934b-198b2643831c",
   "metadata": {
    "tags": []
   },
   "source": [
    "## Question 5"
   ]
  },
  {
   "cell_type": "code",
   "execution_count": null,
   "id": "8328556c-7524-4d1e-a2af-a4917b627e3d",
   "metadata": {},
   "outputs": [],
   "source": [
    "# Given the following correct labels and predicted probabilities\n",
    "# for the two labels (0 and 1), which statements are correct:\n",
    "\n",
    "correct_labels = [0,0,1,1,1]\n",
    "\n",
    "predictions = np.array([[0.9,0.1],\n",
    "                        [0.8,0.2],\n",
    "                        [0.7,0.3],\n",
    "                        [0.4,0.6],\n",
    "                        [0.2,0.8]\n",
    "                       ])\n",
    "\n",
    "# A\n",
    "#The accuracy is 100%\n",
    "# Not correct\n",
    "\n",
    "# B\n",
    "#The precision for class 0 is 100%\n",
    "# Not correct\n",
    "\n",
    "# C\n",
    "#The recall for class 0 is 100%\n",
    "# Correct\n",
    "\n",
    "# D\n",
    "#The area under ROC curve (AUC) is 1.0\n",
    "# Correct"
   ]
  },
  {
   "cell_type": "markdown",
   "id": "e95f6377-29b0-48c8-b55c-295b6665a93b",
   "metadata": {},
   "source": [
    "## Question 6"
   ]
  },
  {
   "cell_type": "code",
   "execution_count": 11,
   "id": "99f7c6e5-122b-4a3f-8006-82cd6db7316c",
   "metadata": {},
   "outputs": [],
   "source": [
    "# Given the following correct labels and predicted probabilities\n",
    "# for the two labels (0 and 1), which statements are correct:\n",
    "\n",
    "correct_labels = [0,1,0,1,1]\n",
    "\n",
    "predictions = np.array([[0.9,0.1],\n",
    "                        [0.8,0.2],\n",
    "                        [0.75,0.25],\n",
    "                        [0.7,0.3],\n",
    "                        [0.6,0.4]\n",
    "                       ])\n",
    "\n",
    "# A\n",
    "#AUC = 1.0\n",
    "# Incorrect\n",
    "\n",
    "# B\n",
    "#AUC = 0.0\n",
    "# Incorrect\n",
    "\n",
    "# C\n",
    "#AUC = 3/4\n",
    "# Incorrect\n",
    "\n",
    "# D\n",
    "#AUC = 5/6\n",
    "# Correct\n"
   ]
  },
  {
   "cell_type": "code",
   "execution_count": 12,
   "id": "996736a2-2322-411a-978a-a064d7ed2cdf",
   "metadata": {},
   "outputs": [
    {
     "data": {
      "image/png": "[encoded data removed]",
      "text/plain": [
       "<Figure size 432x288 with 1 Axes>"
      ]
     },
     "metadata": {
      "needs_background": "light"
     },
     "output_type": "display_data"
    }
   ],
   "source": [
    "\n",
    "def get_pos_and_neg(predictions,pos_label):\n",
    "    scores = {}\n",
    "    for i in range(len(predictions)):\n",
    "        score = predictions[i,pos_label]\n",
    "        (p,n) = scores.get(score,(0,0))\n",
    "        if correct_labels[i] == pos_label:\n",
    "            scores[score] = (p+1,n)\n",
    "        else:\n",
    "            scores[score] = (p,n+1)\n",
    "    scores = np.array([[score,scores[score][0],scores[score][1]] for score in scores.keys()])\n",
    "    scores = scores[np.argsort(scores[:,0])[::-1]]\n",
    "    pos = scores[:,1]\n",
    "    neg = scores[:,2]\n",
    "    return pos, neg\n",
    "\n",
    "pos_label = 0\n",
    "\n",
    "pos, neg = get_pos_and_neg(predictions,pos_label)\n",
    "\n",
    "tpr = [cs/sum(pos) for cs in np.cumsum(pos)]\n",
    "fpr = [cs/sum(neg) for cs in np.cumsum(neg)]\n",
    "\n",
    "import matplotlib.pyplot as plt\n",
    "\n",
    "plt.plot([0.0]+fpr+[1.0],[0.0]+tpr+[1.0],\"-\",label=pos_label)\n",
    "plt.plot([0.0,1.0],[0.0,1.0],\"--\",label=\"Baseline\")\n",
    "plt.xlabel(\"fpr\")\n",
    "plt.ylabel(\"tpr\")\n",
    "plt.legend()\n",
    "plt.show()"
   ]
  },
  {
   "cell_type": "markdown",
   "id": "c7229030-4e6f-4d11-83ce-1fdf1a7c6bf4",
   "metadata": {},
   "source": [
    "## Question 7"
   ]
  },
  {
   "cell_type": "code",
   "execution_count": 13,
   "id": "bd6c1134-501e-44e5-b964-dfc6f1a095d3",
   "metadata": {},
   "outputs": [],
   "source": [
    "# Given the following correct labels and predicted probabilities\n",
    "# for the two labels (0 and 1), which statements are correct:\n",
    "\n",
    "correct_labels = [0,1,0,1,1,1]\n",
    "\n",
    "predictions = np.array([[0.9,0.1],\n",
    "                        [0.8,0.2],\n",
    "                        [0.7,0.3],\n",
    "                        [0.7,0.3],\n",
    "                        [0.6,0.4],\n",
    "                        [0.55,0.45]\n",
    "                       ])\n",
    "\n",
    "# A\n",
    "AUC = 3/4\n",
    "\n",
    "# B\n",
    "AUC = 7/8\n",
    "\n",
    "# C\n",
    "AUC = 1/2\n",
    "\n",
    "# D\n",
    "AUC = 7/9"
   ]
  },
  {
   "cell_type": "code",
   "execution_count": 15,
   "id": "7db98a94-5f16-4bbf-97c6-ba0a1a0f1048",
   "metadata": {},
   "outputs": [],
   "source": [
    "# Given the following correct labels and predicted probabilities\n",
    "# for the two labels (0 and 1), which statements are correct:\n",
    "\n",
    "correct_labels = [0,1,0,1,1,1]\n",
    "\n",
    "predictions = np.array([[0.9,0.1],\n",
    "                        [0.8,0.2],\n",
    "                        [0.7,0.3],\n",
    "                        [0.7,0.3],\n",
    "                        [0.6,0.4],\n",
    "                        [0.55,0.45]\n",
    "                       ])\n",
    "\n",
    "# A\n",
    "\n",
    "# AUC = 3/4\n",
    "\n",
    "# B\n",
    "\n",
    "# AUC = 1/8 + (1/8 + 1/8) + 1/4 + 1/4 = 7/8\n",
    "# This is the correct answer \n",
    "\n",
    "# C\n",
    "\n",
    "# AUC = 1/2\n",
    "\n",
    "# D\n",
    "\n",
    "# AUC = 7/9"
   ]
  },
  {
   "cell_type": "code",
   "execution_count": 16,
   "id": "456b6abc-92d7-4955-a200-5380b6d6bbb2",
   "metadata": {},
   "outputs": [
    {
     "data": {
      "image/png": "[encoded data removed]",
      "text/plain": [
       "<Figure size 432x288 with 1 Axes>"
      ]
     },
     "metadata": {
      "needs_background": "light"
     },
     "output_type": "display_data"
    }
   ],
   "source": [
    "pos_label = 0\n",
    "\n",
    "pos, neg = get_pos_and_neg(predictions,pos_label)\n",
    "\n",
    "tpr = [cs/sum(pos) for cs in np.cumsum(pos)]\n",
    "fpr = [cs/sum(neg) for cs in np.cumsum(neg)]\n",
    "\n",
    "plt.plot([0.0]+fpr+[1.0],[0.0]+tpr+[1.0],\"-\",label=\"0\")\n",
    "plt.plot([0.0,1.0],[0.0,1.0],\"--\",label=\"Baseline\")\n",
    "plt.xlabel(\"fpr\")\n",
    "plt.ylabel(\"tpr\")\n",
    "plt.legend()\n",
    "plt.show()"
   ]
  },
  {
   "cell_type": "markdown",
   "id": "03d2f772-1212-431a-b9fa-debcea368ba6",
   "metadata": {
    "tags": []
   },
   "source": [
    "## Question 8"
   ]
  },
  {
   "cell_type": "markdown",
   "id": "d51be791-874d-4133-afd5-547bd79206b9",
   "metadata": {},
   "source": [
    "Assume that we have generated a regression model for\n",
    "predicting the outdoor temperature from a training set. \n",
    "When measuring the predictive performance on a test set, \n",
    "we observe that the mean-squared error of the model is \n",
    "much higher than that of a default model, which just predicts \n",
    "the average outdoor temperature in the training set. \n",
    "\n",
    "Which of the following statements are true:\n",
    "\n",
    "#### A\n",
    "\n",
    "If we would try another test set, we can expect the\n",
    "trained model to outperform the default model.\n",
    "\n",
    "#### B\n",
    "\n",
    "If we would min-max-normalize the target variable,\n",
    "the relative performance of the two models may change.\n",
    "\n",
    "#### C\n",
    "\n",
    "The correlation coefficient of the default model is also higher\n",
    "than that of the trained model.\n",
    "\n",
    "#### D\n",
    "\n",
    "The trained model can still be more useful for prediction tasks\n",
    "than the default model."
   ]
  },
  {
   "cell_type": "markdown",
   "id": "c1f84cb1-5835-43ee-a73d-3665d08fb438",
   "metadata": {},
   "source": [
    "---\n",
    "The correct answer is D."
   ]
  }
 ],
 "metadata": {
  "kernelspec": {
   "display_name": "Python 3 (ipykernel)",
   "language": "python",
   "name": "python3"
  },
  "language_info": {
   "codemirror_mode": {
    "name": "ipython",
    "version": 3
   },
   "file_extension": ".py",
   "mimetype": "text/x-python",
   "name": "python",
   "nbconvert_exporter": "python",
   "pygments_lexer": "ipython3",
   "version": "3.8.12"
  }
 },
 "nbformat": 4,
 "nbformat_minor": 5
}
