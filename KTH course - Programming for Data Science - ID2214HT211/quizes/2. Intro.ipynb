{
 "cells": [
  {
   "cell_type": "markdown",
   "id": "b7300355-e65e-4198-9ef8-5e52c91a1991",
   "metadata": {},
   "source": [
    "# Quiz for Lecture 2"
   ]
  },
  {
   "cell_type": "markdown",
   "id": "bc8e3d3d-5d26-47a3-8bf5-2a1f7ad82f56",
   "metadata": {},
   "source": [
    "## Question 1"
   ]
  },
  {
   "cell_type": "code",
   "execution_count": null,
   "id": "6e6bee1c-6e8f-41d6-a3d8-76535a4d83cd",
   "metadata": {},
   "outputs": [],
   "source": [
    "# Which of the following produces a unique list:\n",
    "\n",
    "# A\n",
    "result = [\"a\",\"b\"]\n",
    "result.append(\"c\")\n",
    "print(result)\n",
    "\n",
    "# B\n",
    "result = [\"a\"]\n",
    "result.extend([\"b\",\"c\"])\n",
    "print(result)\n",
    "\n",
    "# C\n",
    "result = []\n",
    "for c in \"cba\":\n",
    "    result.append(c)\n",
    "print(result)\n",
    "\n",
    "# D\n",
    "result = [\"c\",\"b\",\"a\"]\n",
    "for i, c in enumerate([\"a\",\"b\",\"c\"]):\n",
    "    result[i] = c\n",
    "print(result)"
   ]
  },
  {
   "cell_type": "markdown",
   "id": "cf1afb83-1cad-4243-b74b-9d04ab6c5eab",
   "metadata": {},
   "source": [
    "## Question 2"
   ]
  },
  {
   "cell_type": "code",
   "execution_count": null,
   "id": "91452fa6-eaf9-4be9-b84c-94b8704522a2",
   "metadata": {},
   "outputs": [],
   "source": [
    "# Which of the following results in a unique list:\n",
    "\n",
    "# A\n",
    "l1 = [\"c\"]\n",
    "l2 = [\"a\",\"b\"]\n",
    "result = l2 + l1\n",
    "print(result)\n",
    "\n",
    "# B\n",
    "l1 = [\"a\",\"b\",\"c\",\"d\"]\n",
    "result = l1[:3]\n",
    "print(result)\n",
    "\n",
    "# C\n",
    "result = [c for i, c in enumerate(\"abc\")]\n",
    "print(result)\n",
    "\n",
    "# D\n",
    "result = [\"c\",\"b\",\"a\"]\n",
    "result = result[2] + result[1] + result[0]\n",
    "print(result)"
   ]
  },
  {
   "cell_type": "markdown",
   "id": "69e7670a-e76f-4539-a543-caf82fb3e3c8",
   "metadata": {},
   "source": [
    "## Question 3"
   ]
  },
  {
   "cell_type": "code",
   "execution_count": null,
   "id": "c50d9fac-746a-4dea-9df8-2f10c34eef0f",
   "metadata": {},
   "outputs": [],
   "source": [
    "# Which of the following changes the result list:\n",
    "\n",
    "# A\n",
    "result = [\"a\",\"b\",\"a\",\"b\"]\n",
    "result += [\"c\",\"d\",\"e\"]\n",
    "result = result[:4]\n",
    "print(result)\n",
    "\n",
    "# B\n",
    "result = [\"a\",\"b\",\"a\",\"b\"]\n",
    "result = result[2:] + result[:2] \n",
    "print(result)\n",
    "\n",
    "# C\n",
    "result = [\"a\",\"b\",\"a\",\"b\"]\n",
    "new_list = result\n",
    "new_list[1] = \"e\"\n",
    "print(result)\n",
    "\n",
    "# D\n",
    "result = [\"a\",\"b\",\"a\",\"b\"]\n",
    "result = result[::1]\n",
    "print(result)"
   ]
  },
  {
   "cell_type": "markdown",
   "id": "b2a87573-9212-42ac-b933-0ae0df078c0f",
   "metadata": {},
   "source": [
    "## Question 4"
   ]
  },
  {
   "cell_type": "code",
   "execution_count": null,
   "id": "882c3858-9ec9-4469-99c3-cfd43c46b6d1",
   "metadata": {},
   "outputs": [],
   "source": [
    "# Which of the following changes the result list:\n",
    "\n",
    "# A\n",
    "\n",
    "result = [\"a\",\"b\",\"c\",\"d\"]\n",
    "\n",
    "def a(x):\n",
    "    x[2] = 2\n",
    "    \n",
    "a(result)\n",
    "print(result)\n",
    "\n",
    "# B\n",
    "\n",
    "result = [\"a\",\"b\",\"c\",\"d\"]\n",
    "\n",
    "def b(x):\n",
    "    z = x[2:]\n",
    "    z[1] = 2\n",
    "\n",
    "b(result)\n",
    "print(result)\n",
    "\n",
    "# C\n",
    "\n",
    "result = [\"a\",\"b\",\"c\",\"d\"]\n",
    "\n",
    "def c(x):\n",
    "   return x[::-1]\n",
    "\n",
    "c(result)\n",
    "print(result)\n",
    "\n",
    "# D\n",
    "\n",
    "result = [\"a\",\"b\",\"c\",\"d\"]\n",
    "\n",
    "result = c(result[::-1])\n",
    "print(result)"
   ]
  },
  {
   "cell_type": "markdown",
   "id": "33321efc-e6d4-486d-ad28-cfbfbf3b78c5",
   "metadata": {},
   "source": [
    "## Question 5"
   ]
  },
  {
   "cell_type": "code",
   "execution_count": null,
   "id": "88e98128-9e0e-46b9-a09a-90c7848cd506",
   "metadata": {},
   "outputs": [],
   "source": [
    "# What will be the value of result?\n",
    "\n",
    "def update(d,k,v):\n",
    "    if d.get(k) is None:\n",
    "        d[k] = v\n",
    "        return d\n",
    "\n",
    "result = {\"a\":1, \"b\":2}\n",
    "result = update(result,\"c\",3)\n",
    "result = update(result,\"c\",3)\n",
    "print(result)\n",
    "\n",
    "# A\n",
    "\n",
    "result = {\"a\":1, \"b\":2}\n",
    "\n",
    "# B\n",
    "\n",
    "result = {\"a\":1, \"b\":2, \"c\":3}\n",
    "\n",
    "# C\n",
    "\n",
    "result = {\"a\":1, \"b\":2, \"c\":3, \"c\":3}\n",
    "\n",
    "# D\n",
    "\n",
    "result = None"
   ]
  },
  {
   "cell_type": "markdown",
   "id": "4561b727-bed2-4602-a147-86f30cf9068f",
   "metadata": {},
   "source": [
    "## Question 6"
   ]
  },
  {
   "cell_type": "code",
   "execution_count": null,
   "id": "423aabc5-38be-4d65-87b0-04dd3b7c7358",
   "metadata": {},
   "outputs": [],
   "source": [
    "# What will be the value of result?\n",
    "\n",
    "def update(d,k,v):\n",
    "    if d.get(k) is None:\n",
    "        d[k] = v\n",
    "    return d\n",
    "\n",
    "result = {\"a\":1, \"b\":2}\n",
    "\n",
    "for k in [\"a\", \"b\", \"c\"]:\n",
    "    result = update(result,k,result.get(k,0)+1)\n",
    "\n",
    "print(result)\n",
    "\n",
    "# A\n",
    "\n",
    "result = {\"a\":1, \"b\":2}\n",
    "\n",
    "# B\n",
    "\n",
    "result = {\"a\":1, \"b\":2, \"c\":1}\n",
    "\n",
    "# C\n",
    "\n",
    "result = {\"a\":2, \"b\":3, \"c\":1}\n",
    "\n",
    "# D\n",
    "\n",
    "result = None"
   ]
  },
  {
   "cell_type": "markdown",
   "id": "7a6bc3ec-f613-49bd-aee3-1d11719d44ea",
   "metadata": {},
   "source": [
    "## Question 7"
   ]
  },
  {
   "cell_type": "code",
   "execution_count": null,
   "id": "fb2277e7-770b-405d-93b0-7d07243abe7e",
   "metadata": {},
   "outputs": [],
   "source": [
    "# Which of the following will change the result array?\n",
    "\n",
    "import numpy as np\n",
    "\n",
    "result = np.array([1,2,3,4])\n",
    "\n",
    "# A\n",
    "\n",
    "result = np.array([1,2,3,4])\n",
    "\n",
    "p = result\n",
    "p[2] = 2\n",
    "\n",
    "print(result)\n",
    "\n",
    "# B\n",
    "\n",
    "result = np.array([1,2,3,4])\n",
    "\n",
    "p = result.copy()\n",
    "p[0] = 0\n",
    "\n",
    "print(result)\n",
    "\n",
    "# C\n",
    "\n",
    "result = np.array([1,2,3,4])\n",
    "\n",
    "p = result[1:3]\n",
    "p[0] = 0\n",
    "\n",
    "print(result)\n",
    "\n",
    "# D\n",
    "\n",
    "result = np.array([1,2,3,4])\n",
    "\n",
    "p = result[1:3].copy()\n",
    "p[0] = 4\n",
    "\n",
    "print(result)"
   ]
  },
  {
   "cell_type": "markdown",
   "id": "a4d92181-6cd4-4297-addd-5913f655ec9f",
   "metadata": {},
   "source": [
    "## Question 8"
   ]
  },
  {
   "cell_type": "code",
   "execution_count": null,
   "id": "4e18b240-2bc5-4c4b-8095-cef8f1c10713",
   "metadata": {},
   "outputs": [],
   "source": [
    "# Which of the following will result in a = array([1, 2, 3, 4])?\n",
    "\n",
    "# A\n",
    "a = np.array([1,2,3,4]).reshape(2,2)\n",
    "a.reshape(4)\n",
    "print(a)\n",
    "\n",
    "# B\n",
    "a = np.array([i for i in range(10)])[:4]\n",
    "print(a)\n",
    "\n",
    "# C\n",
    "a = np.arange(10)\n",
    "a = a[a<5][1:]\n",
    "print(a)\n",
    "\n",
    "# D\n",
    "a = np.arange(10)[np.arange(4)+1]\n",
    "print(a)"
   ]
  },
  {
   "cell_type": "markdown",
   "id": "104ace0f-1c73-4040-be77-157c21f765e1",
   "metadata": {},
   "source": [
    "## Question 9"
   ]
  },
  {
   "cell_type": "code",
   "execution_count": null,
   "id": "cc7c662a-337d-4022-a75b-16c4ec8b92e1",
   "metadata": {},
   "outputs": [],
   "source": [
    "# Which of the following will produce unique output?\n",
    "\n",
    "import pandas as pd\n",
    "\n",
    "df = pd.DataFrame([[1,2,3],\n",
    "                   [4,5,6],\n",
    "                   [7,8,9]],columns=[\"A\",\"B\",\"C\"])\n",
    "# A\n",
    "result = df[\"B\"].values[:2]\n",
    "print(result)\n",
    "\n",
    "# B\n",
    "result = df.values[[0,1],1]\n",
    "print(result)\n",
    "\n",
    "# C\n",
    "result = df.iloc[[0,1],1]\n",
    "print(result)\n",
    "\n",
    "# D\n",
    "result = df.loc[:,\"B\"][[0,1]].values\n",
    "print(result)"
   ]
  },
  {
   "cell_type": "markdown",
   "id": "7af0ec4b-0c23-4c69-97f3-b64a8da69498",
   "metadata": {},
   "source": [
    "## Question 10"
   ]
  },
  {
   "cell_type": "code",
   "execution_count": null,
   "id": "26099c71-c592-48b0-89ee-6816b98610c7",
   "metadata": {},
   "outputs": [],
   "source": [
    "# Which of the following will produce unique output?\n",
    "\n",
    "import pandas as pd\n",
    "\n",
    "df = pd.DataFrame([[1,2,3],\n",
    "                   [4,5,6],\n",
    "                   [7,8,9]],columns=[\"A\",\"B\",\"C\"])\n",
    "# A\n",
    "result = df.iloc[[0,1],[1,2]].values\n",
    "print(result)\n",
    "\n",
    "# B\n",
    "result = df.values[[0,1],[1,2]]\n",
    "print(result)\n",
    "\n",
    "# C\n",
    "result = df.values[[0,1]][:,[1,2]]\n",
    "print(result)\n",
    "\n",
    "# D\n",
    "result = df.values[:,[1,2]][[0,1]]\n",
    "print(result)"
   ]
  },
  {
   "cell_type": "markdown",
   "id": "d0857227-3d7e-4b93-bd66-97c451256b59",
   "metadata": {},
   "source": [
    "## Question 11"
   ]
  },
  {
   "cell_type": "code",
   "execution_count": null,
   "id": "c5ff6f71-dd2c-48f3-b07a-9a1a44e8d226",
   "metadata": {},
   "outputs": [],
   "source": [
    "# What will result be assigned to?\n",
    "\n",
    "df = pd.DataFrame([[True,1,7],\n",
    "                   [True,2,5],\n",
    "                   [False,3,8],\n",
    "                   [False,3,2]],columns=[\"A\",\"B\",\"C\"])\n",
    "\n",
    "g = df.groupby([\"A\",\"B\"])\n",
    "\n",
    "result = np.max(g.mean().values)\n",
    "print(result)\n",
    "\n",
    "# A\n",
    "5.0\n",
    "\n",
    "# B\n",
    "6.0\n",
    "\n",
    "# C\n",
    "7.0\n",
    "\n",
    "# D\n",
    "8.0\n",
    "\n",
    "# Just to avoid outputting 8.0\n",
    "None"
   ]
  }
 ],
 "metadata": {
  "kernelspec": {
   "display_name": "Python 3 (ipykernel)",
   "language": "python",
   "name": "python3"
  },
  "language_info": {
   "codemirror_mode": {
    "name": "ipython",
    "version": 3
   },
   "file_extension": ".py",
   "mimetype": "text/x-python",
   "name": "python",
   "nbconvert_exporter": "python",
   "pygments_lexer": "ipython3",
   "version": "3.8.12"
  }
 },
 "nbformat": 4,
 "nbformat_minor": 5
}
